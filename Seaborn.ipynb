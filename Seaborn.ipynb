{
  "nbformat": 4,
  "nbformat_minor": 0,
  "metadata": {
    "colab": {
      "name": "Seaborn.ipynb",
      "private_outputs": true,
      "provenance": [],
      "authorship_tag": "ABX9TyNCbPBeJ54j5ADo2lSjZve3",
      "include_colab_link": true
    },
    "kernelspec": {
      "name": "python3",
      "display_name": "Python 3"
    },
    "language_info": {
      "name": "python"
    }
  },
  "cells": [
    {
      "cell_type": "markdown",
      "metadata": {
        "id": "view-in-github",
        "colab_type": "text"
      },
      "source": [
        "<a href=\"https://colab.research.google.com/github/hitesh3330/Seaborn/blob/main/Seaborn.ipynb\" target=\"_parent\"><img src=\"https://colab.research.google.com/assets/colab-badge.svg\" alt=\"Open In Colab\"/></a>"
      ]
    },
    {
      "cell_type": "code",
      "metadata": {
        "id": "guWsI11wzO9_"
      },
      "source": [
        "import seaborn as sns"
      ],
      "execution_count": null,
      "outputs": []
    },
    {
      "cell_type": "code",
      "metadata": {
        "id": "oM0fV0P4ztP5"
      },
      "source": [
        "import matplotlib.pyplot as plt"
      ],
      "execution_count": null,
      "outputs": []
    },
    {
      "cell_type": "code",
      "metadata": {
        "id": "IpCzxEqRzyg_"
      },
      "source": [
        "import numpy as np"
      ],
      "execution_count": null,
      "outputs": []
    },
    {
      "cell_type": "code",
      "metadata": {
        "id": "-RUDUj47z9R0"
      },
      "source": [
        "import pandas as pd"
      ],
      "execution_count": null,
      "outputs": []
    },
    {
      "cell_type": "markdown",
      "metadata": {
        "id": "8kK1Hrv700Ic"
      },
      "source": [
        "# Seaborn has some built-in-function"
      ]
    },
    {
      "cell_type": "code",
      "metadata": {
        "id": "ZJ4QqIgd03aQ"
      },
      "source": [
        "#total  bill vs tip dataset\n",
        "tips=sns.load_dataset(\"tips\")"
      ],
      "execution_count": null,
      "outputs": []
    },
    {
      "cell_type": "code",
      "metadata": {
        "id": "mHKAHReF1OwS"
      },
      "source": [
        "tips.head()"
      ],
      "execution_count": null,
      "outputs": []
    },
    {
      "cell_type": "code",
      "metadata": {
        "id": "j9iht6oc5ORH"
      },
      "source": [
        "#Setting a theme for the plots\n",
        "sns.set_theme()"
      ],
      "execution_count": null,
      "outputs": []
    },
    {
      "cell_type": "code",
      "metadata": {
        "id": "ETNYppQM1eZ1"
      },
      "source": [
        "#Visualize the data\n",
        "sns.relplot(data=tips,x =\"total_bill\",y=\"tip\",hue=\"smoker\",style=\"smoker\",col=\"time\",size=\"size\")"
      ],
      "execution_count": null,
      "outputs": []
    },
    {
      "cell_type": "code",
      "metadata": {
        "id": "sN2CDXA14DDF"
      },
      "source": [
        " #load the iris dataset\n",
        " iris=sns.load_dataset(\"iris\")\n",
        " iris.head()"
      ],
      "execution_count": null,
      "outputs": []
    },
    {
      "cell_type": "markdown",
      "metadata": {
        "id": "xTFXB6md6x9k"
      },
      "source": [
        "# Scatter Plot"
      ]
    },
    {
      "cell_type": "code",
      "metadata": {
        "id": "fz6p7SI_60l9"
      },
      "source": [
        "sns.scatterplot(data=iris,x=\"sepal_length\",y=\"petal_length\",hue=\"species\")"
      ],
      "execution_count": null,
      "outputs": []
    },
    {
      "cell_type": "code",
      "metadata": {
        "id": "1Nj_IdNj7VjT"
      },
      "source": [
        "sns.scatterplot(data=iris,x=\"sepal_width\", y=\"petal_width\",hue=\"species\")"
      ],
      "execution_count": null,
      "outputs": []
    },
    {
      "cell_type": "code",
      "metadata": {
        "id": "BbYYZGna7x2a"
      },
      "source": [
        "#loading the titanic dataset\n",
        "titanic=sns.load_dataset(\"titanic\")\n",
        "titanic.head()"
      ],
      "execution_count": null,
      "outputs": []
    },
    {
      "cell_type": "code",
      "metadata": {
        "id": "_g5U_btJ83WF"
      },
      "source": [
        "titanic.shape"
      ],
      "execution_count": null,
      "outputs": []
    },
    {
      "cell_type": "markdown",
      "metadata": {
        "id": "sIGwWP2c8YVn"
      },
      "source": [
        "#Count Plot"
      ]
    },
    {
      "cell_type": "code",
      "metadata": {
        "id": "rpcLCS0Q8aWm"
      },
      "source": [
        "sns.countplot(data=titanic,x=\"class\")"
      ],
      "execution_count": null,
      "outputs": []
    },
    {
      "cell_type": "code",
      "metadata": {
        "id": "FldCqOx38tR1"
      },
      "source": [
        "sns.countplot(data=titanic,x=\"survived\")"
      ],
      "execution_count": null,
      "outputs": []
    },
    {
      "cell_type": "markdown",
      "metadata": {
        "id": "sYg7s-LV9Yn-"
      },
      "source": [
        "# Bar Chart"
      ]
    },
    {
      "cell_type": "code",
      "metadata": {
        "id": "J8ZnfYPz9K6y"
      },
      "source": [
        "sns.barplot(data=titanic,x=\"sex\",y=\"survived\",hue=\"class\")"
      ],
      "execution_count": null,
      "outputs": []
    },
    {
      "cell_type": "code",
      "metadata": {
        "id": "xVQniq4b9pho"
      },
      "source": [
        "#load house price dataset\n",
        "from sklearn.datasets import load_boston\n",
        "house_boston=load_boston()\n",
        "house=pd.DataFrame(house_boston.data, columns=house_boston.feature_names)\n",
        "house[\"PRICE\"]=house_boston.target\n",
        "house.head()"
      ],
      "execution_count": null,
      "outputs": []
    },
    {
      "cell_type": "markdown",
      "metadata": {
        "id": "HfvBWiTXAGRL"
      },
      "source": [
        "#Distribution Plot"
      ]
    },
    {
      "cell_type": "code",
      "metadata": {
        "id": "9s_gPnpz_Xss"
      },
      "source": [
        "sns.displot(house[\"PRICE\"])"
      ],
      "execution_count": null,
      "outputs": []
    },
    {
      "cell_type": "code",
      "metadata": {
        "id": "sNJxfjl1AZYD"
      },
      "source": [
        "sns.distplot(house[\"PRICE\"])"
      ],
      "execution_count": null,
      "outputs": []
    },
    {
      "cell_type": "markdown",
      "metadata": {
        "id": "3gUNtQY9Az0s"
      },
      "source": [
        "#Correlation\n",
        "\n",
        "*   Postive Correlation\n",
        "\n",
        "* Negative Correlation\n"
      ]
    },
    {
      "cell_type": "code",
      "metadata": {
        "id": "bI_i1_7VBwGc"
      },
      "source": [
        "correlation=house.corr()"
      ],
      "execution_count": null,
      "outputs": []
    },
    {
      "cell_type": "markdown",
      "metadata": {
        "id": "AWf1UxEEBfQC"
      },
      "source": [
        "#Heat Map"
      ]
    },
    {
      "cell_type": "code",
      "metadata": {
        "id": "srm8zC6IAjKA"
      },
      "source": [
        "#Constructing a Heat Map\n",
        "plt.figure(figsize=(8,8))\n",
        "sns.heatmap(correlation, cbar=True, square=True, fmt=\".1f\", annot=True, annot_kws=None, cmap=\"Blues\")"
      ],
      "execution_count": null,
      "outputs": []
    },
    {
      "cell_type": "code",
      "metadata": {
        "id": "JGbVCkVbAwmD"
      },
      "source": [
        ""
      ],
      "execution_count": null,
      "outputs": []
    }
  ]
}